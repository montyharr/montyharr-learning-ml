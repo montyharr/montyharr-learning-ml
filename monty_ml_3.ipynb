{
  "nbformat": 4,
  "nbformat_minor": 0,
  "metadata": {
    "colab": {
      "name": "monty-ml-3",
      "provenance": [],
      "toc_visible": true,
      "authorship_tag": "ABX9TyPCixd2P1kfjHgtjkllTl5L",
      "include_colab_link": true
    },
    "kernelspec": {
      "name": "python3",
      "display_name": "Python 3"
    },
    "accelerator": "GPU"
  },
  "cells": [
    {
      "cell_type": "markdown",
      "metadata": {
        "id": "view-in-github",
        "colab_type": "text"
      },
      "source": [
        "<a href=\"https://colab.research.google.com/github/montyharr/montyharr-learning-ml/blob/master/monty_ml_3.ipynb\" target=\"_parent\"><img src=\"https://colab.research.google.com/assets/colab-badge.svg\" alt=\"Open In Colab\"/></a>"
      ]
    },
    {
      "cell_type": "markdown",
      "metadata": {
        "id": "kl8Pdxfumhpn"
      },
      "source": [
        "# Monty Harr 3.\n",
        "## Google Colab Classification\n",
        "Flick thru:\n",
        " - Numbers\n",
        " - graphs\n",
        " -accuracy\n",
        "\n",
        "Questions: \n",
        " - Classify MNIST data 97%\n",
        " - Modify data and train again\n",
        " - Titanic dataset Kaggle\n",
        " - Spam classifier. (big)\n"
      ]
    },
    {
      "cell_type": "code",
      "metadata": {
        "id": "7qKngc3Sm0L9"
      },
      "source": [
        ""
      ],
      "execution_count": null,
      "outputs": []
    },
    {
      "cell_type": "markdown",
      "metadata": {
        "id": "u4fv1cBUuUm4"
      },
      "source": [
        "#Setup"
      ]
    },
    {
      "cell_type": "code",
      "metadata": {
        "id": "RbONPUm8uWAF"
      },
      "source": [
        "# Python >= 3.5 is required\n",
        "import sys\n",
        "assert sys.version_info >=(3,5)\n",
        "\n",
        "# Scikit-Learn >= 0.20 is required\n",
        "import sklearn\n",
        "assert sklearn.__version__ >= \"0.20\"\n",
        "\n",
        "# Common imports\n",
        "import numpy as np\n",
        "import os\n",
        "\n",
        "# to make this notebook's output stable across runs\n",
        "np.random.seed(42)\n",
        "\n",
        "# To plot pretty figures\n",
        "%matplotlib inline\n",
        "import matplotlib as mpl\n",
        "import matplotlib.pyplot as plt\n",
        "mpl.rc('axes', labelsize=14)\n",
        "mpl.rc('xtick', labelsize=12)\n",
        "mpl.rc('ytick', labelsize=12)\n",
        "\n",
        "# Where to save the figures\n",
        "PROJECT_ROOT_DIR = \".\"\n",
        "CHAPTER_ID =  \"classification\"\n",
        "IMAGES_PATH = os.path.join(PROJECT_ROOT_DIR, \"images\", CHAPTER_ID)\n",
        "os.makedirs(IMAGES_PATH, exist_ok=True)\n",
        "\n",
        "def save_fig(fig_id, tight_layout=True, fig_extension=\"png\", resolution=300):\n",
        "  path = os.path.join(IMAGES_PATH, fig_id + \".\" + fig_extension)\n",
        "  print(\"Saving figure\", fig_id)\n",
        "  if tight_layout:\n",
        "    plt.tight_layout()\n",
        "  plt.savefig(path, format = fig_extension, dpi = resolution)"
      ],
      "execution_count": 1,
      "outputs": []
    },
    {
      "cell_type": "code",
      "metadata": {
        "id": "EzKltjfSuWj2"
      },
      "source": [
        ""
      ],
      "execution_count": null,
      "outputs": []
    },
    {
      "cell_type": "code",
      "metadata": {
        "id": "0u9PrqDXwUvZ"
      },
      "source": [
        ""
      ],
      "execution_count": null,
      "outputs": []
    },
    {
      "cell_type": "markdown",
      "metadata": {
        "id": "CpCSKJIQwV_W"
      },
      "source": [
        "#MNIST"
      ]
    },
    {
      "cell_type": "code",
      "metadata": {
        "id": "Azn3tCZYwZop"
      },
      "source": [
        "from sklearn.datasets import fetch_openml\n",
        "mnist = fetch_openml('mnist_784', version=1)\n",
        "mnist.keys()"
      ],
      "execution_count": null,
      "outputs": []
    },
    {
      "cell_type": "code",
      "metadata": {
        "id": "t60PSzJbwthP"
      },
      "source": [
        "X,y = mnist[\"data\"], mnist[\"target\"]\n",
        "X.shape"
      ],
      "execution_count": null,
      "outputs": []
    },
    {
      "cell_type": "code",
      "metadata": {
        "id": "MgrB8d4nxEk2"
      },
      "source": [
        "some_digit = X[0]\n",
        "some_digit_image = some_digit.reshape(28,28) # reshaping \n",
        "plt.imshow(some_digit_image, cmap = mpl.cm.binary)\n",
        "plt.axis(\"off\")\n",
        "\n",
        "save_fig(\"some_digit_plot\")\n",
        "plt.show()"
      ],
      "execution_count": null,
      "outputs": []
    },
    {
      "cell_type": "code",
      "metadata": {
        "id": "SB61-FumxUbN"
      },
      "source": [
        "y[0] #label tells us this is in fact a 5"
      ],
      "execution_count": null,
      "outputs": []
    },
    {
      "cell_type": "markdown",
      "metadata": {
        "id": "gKr2GGKqx74P"
      },
      "source": [
        "label is a string, most ML expect numbers, so let's cast y to integer"
      ]
    },
    {
      "cell_type": "code",
      "metadata": {
        "id": "LIniCq2iyCHN"
      },
      "source": [
        "y = y.astype(np.uint8)"
      ],
      "execution_count": null,
      "outputs": []
    },
    {
      "cell_type": "code",
      "metadata": {
        "id": "F8x1gU1-yEl2"
      },
      "source": [
        "X_train, X_test, y_train, y_test = X[:60000], X[60000:], y[:60000], y[60000:]"
      ],
      "execution_count": null,
      "outputs": []
    },
    {
      "cell_type": "markdown",
      "metadata": {
        "id": "oVeuY73wzOyJ"
      },
      "source": [
        "#Binary Classifier"
      ]
    },
    {
      "cell_type": "markdown",
      "metadata": {
        "id": "f7gK70QHl_7d"
      },
      "source": [
        "**Note**: some hyperparameters will have a different defaut value in future versions of Scikit-Learn, such as `max_iter` and `tol`. To be future-proof, we explicitly set these hyperparameters to their future default values. For simplicity, this is not shown in the book."
      ]
    },
    {
      "cell_type": "code",
      "metadata": {
        "id": "Gajkca2wytpu"
      },
      "source": [
        "y_train_5 = (y_train == 5) # True for all 5s\n",
        "y_test_5 = (y_test == 5)"
      ],
      "execution_count": null,
      "outputs": []
    },
    {
      "cell_type": "code",
      "metadata": {
        "id": "EK1b8hxI0BXI",
        "colab": {
          "base_uri": "https://localhost:8080/"
        },
        "outputId": "d1263239-143f-4697-af86-2a033a1fb70e"
      },
      "source": [
        "from sklearn.linear_model import SGDClassifier\n",
        "\n",
        "sgd_clf = SGDClassifier(max_iter = 1000, tol = 1e-3, random_state = 42)\n",
        "sgd_clf.fit(X_train, y_train_5)"
      ],
      "execution_count": null,
      "outputs": [
        {
          "output_type": "execute_result",
          "data": {
            "text/plain": [
              "SGDClassifier(alpha=0.0001, average=False, class_weight=None,\n",
              "              early_stopping=False, epsilon=0.1, eta0=0.0, fit_intercept=True,\n",
              "              l1_ratio=0.15, learning_rate='optimal', loss='hinge',\n",
              "              max_iter=1000, n_iter_no_change=5, n_jobs=None, penalty='l2',\n",
              "              power_t=0.5, random_state=42, shuffle=True, tol=0.001,\n",
              "              validation_fraction=0.1, verbose=0, warm_start=False)"
            ]
          },
          "metadata": {
            "tags": []
          },
          "execution_count": 10
        }
      ]
    },
    {
      "cell_type": "code",
      "metadata": {
        "id": "nIe76Bw-0U48",
        "colab": {
          "base_uri": "https://localhost:8080/"
        },
        "outputId": "8af8d1e4-764a-49cb-d12d-c686c66f987c"
      },
      "source": [
        "#pass our newly trained classifier our \"some digit\" variable and see what it thinks.\n",
        "sgd_clf.predict([some_digit])"
      ],
      "execution_count": null,
      "outputs": [
        {
          "output_type": "execute_result",
          "data": {
            "text/plain": [
              "array([ True])"
            ]
          },
          "metadata": {
            "tags": []
          },
          "execution_count": 11
        }
      ]
    },
    {
      "cell_type": "code",
      "metadata": {
        "id": "jCRemvA302aK",
        "colab": {
          "base_uri": "https://localhost:8080/"
        },
        "outputId": "ca9e3918-df40-4adb-9e8c-df6361745773"
      },
      "source": [
        "#Hooray it thinks we've got a 5 on our hands!\n",
        "from sklearn.model_selection import cross_val_score\n",
        "cross_val_score(sgd_clf, X_train, y_train_5, cv=3, scoring = \"accuracy\")"
      ],
      "execution_count": null,
      "outputs": [
        {
          "output_type": "execute_result",
          "data": {
            "text/plain": [
              "array([0.95035, 0.96035, 0.9604 ])"
            ]
          },
          "metadata": {
            "tags": []
          },
          "execution_count": 12
        }
      ]
    },
    {
      "cell_type": "markdown",
      "metadata": {
        "id": "vuOKn3Bu3fm1"
      },
      "source": [
        ""
      ]
    },
    {
      "cell_type": "code",
      "metadata": {
        "id": "nSXUevNu2Efx",
        "colab": {
          "base_uri": "https://localhost:8080/"
        },
        "outputId": "4db2ee2c-a6ac-4ac1-93ec-9c66eb2e1a80"
      },
      "source": [
        "from sklearn.model_selection import StratifiedKFold\n",
        "from sklearn.base import clone\n",
        "\n",
        "skfolds = StratifiedKFold(n_splits=3, random_state=42)\n",
        "\n",
        "for train_index, test_index in skfolds.split(X_train, y_train_5):\n",
        "  clone_clf = clone(sgd_clf)\n",
        "  X_train_folds = X_train[train_index]\n",
        "  y_train_folds = y_train_5[train_index]\n",
        "  X_test_fold = X_train[test_index]\n",
        "  y_test_fold = y_train_5[test_index]\n",
        "\n",
        "  clone_clf.fit(X_train_folds, y_train_folds)\n",
        "  y_pred = clone_clf.predict(X_test_fold)\n",
        "  n_correct = sum(y_pred == y_test_fold)\n",
        "  print(n_correct/len(y_pred))"
      ],
      "execution_count": null,
      "outputs": [
        {
          "output_type": "stream",
          "text": [
            "/usr/local/lib/python3.6/dist-packages/sklearn/model_selection/_split.py:296: FutureWarning: Setting a random_state has no effect since shuffle is False. This will raise an error in 0.24. You should leave random_state to its default (None), or set shuffle=True.\n",
            "  FutureWarning\n"
          ],
          "name": "stderr"
        },
        {
          "output_type": "stream",
          "text": [
            "0.95035\n",
            "0.96035\n",
            "0.9604\n"
          ],
          "name": "stdout"
        }
      ]
    },
    {
      "cell_type": "code",
      "metadata": {
        "id": "v-k1Ex_f3KvR"
      },
      "source": [
        "#how bad is it REALLY!?\n",
        "from sklearn.base import BaseEstimator\n",
        "\n",
        "class Never5Classifier(BaseEstimator):\n",
        "  def fit(self, X,y=None):\n",
        "    return self\n",
        "  def predict(self, X):\n",
        "    return np.zeros((len(X),1), dtype=bool)"
      ],
      "execution_count": null,
      "outputs": []
    },
    {
      "cell_type": "code",
      "metadata": {
        "id": "GHAFMK1y5psF",
        "colab": {
          "base_uri": "https://localhost:8080/"
        },
        "outputId": "0d254847-7431-4a45-c65a-711987e39664"
      },
      "source": [
        "never_5_clf = Never5Classifier()\n",
        "cross_val_score(never_5_clf, X_train, y_train_5, cv=3, scoring=\"accuracy\")"
      ],
      "execution_count": null,
      "outputs": [
        {
          "output_type": "execute_result",
          "data": {
            "text/plain": [
              "array([0.91125, 0.90855, 0.90915])"
            ]
          },
          "metadata": {
            "tags": []
          },
          "execution_count": 15
        }
      ]
    },
    {
      "cell_type": "code",
      "metadata": {
        "id": "lalyzM3el_7w"
      },
      "source": [
        "from sklearn.model_selection import cross_val_predict\n",
        "\n",
        "y_train_pred = cross_val_predict(sgd_clf, X_train, y_train_5, cv=3)"
      ],
      "execution_count": null,
      "outputs": []
    },
    {
      "cell_type": "code",
      "metadata": {
        "id": "E0A0zww260bP",
        "colab": {
          "base_uri": "https://localhost:8080/"
        },
        "outputId": "ac4d6c56-8b82-441c-d6d1-ef683a5f7e13"
      },
      "source": [
        "# Confusion Matrix\n",
        "from sklearn.metrics import confusion_matrix\n",
        "\n",
        "confusion_matrix(y_train_5, y_train_pred)"
      ],
      "execution_count": null,
      "outputs": [
        {
          "output_type": "execute_result",
          "data": {
            "text/plain": [
              "array([[53892,   687],\n",
              "       [ 1891,  3530]])"
            ]
          },
          "metadata": {
            "tags": []
          },
          "execution_count": 17
        }
      ]
    },
    {
      "cell_type": "code",
      "metadata": {
        "id": "TADX6VKJ7BIq",
        "colab": {
          "base_uri": "https://localhost:8080/"
        },
        "outputId": "967a12c5-2bc1-4203-a345-918741397088"
      },
      "source": [
        "y_train_perfect_predictions = y_train_5 # pretend we reached perfection\n",
        "confusion_matrix(y_train_5, y_train_perfect_predictions)"
      ],
      "execution_count": null,
      "outputs": [
        {
          "output_type": "execute_result",
          "data": {
            "text/plain": [
              "array([[54579,     0],\n",
              "       [    0,  5421]])"
            ]
          },
          "metadata": {
            "tags": []
          },
          "execution_count": 18
        }
      ]
    },
    {
      "cell_type": "code",
      "metadata": {
        "id": "mH_-gGpL72F6",
        "colab": {
          "base_uri": "https://localhost:8080/"
        },
        "outputId": "4c18d406-b7c0-4532-8c72-cc13d0243475"
      },
      "source": [
        "from sklearn.metrics import precision_score, recall_score\n",
        "precision_score(y_train_5, y_train_pred)"
      ],
      "execution_count": null,
      "outputs": [
        {
          "output_type": "execute_result",
          "data": {
            "text/plain": [
              "0.8370879772350012"
            ]
          },
          "metadata": {
            "tags": []
          },
          "execution_count": 19
        }
      ]
    },
    {
      "cell_type": "code",
      "metadata": {
        "id": "ScOO3wirAoep",
        "colab": {
          "base_uri": "https://localhost:8080/"
        },
        "outputId": "4bb8ccaf-f260-46ac-ae21-88e21122070e"
      },
      "source": [
        "from sklearn.metrics import f1_score\n",
        "f1_score(y_train_5, y_train_pred)"
      ],
      "execution_count": null,
      "outputs": [
        {
          "output_type": "execute_result",
          "data": {
            "text/plain": [
              "0.7325171197343846"
            ]
          },
          "metadata": {
            "tags": []
          },
          "execution_count": 20
        }
      ]
    },
    {
      "cell_type": "code",
      "metadata": {
        "id": "vCXUdveAA68_",
        "colab": {
          "base_uri": "https://localhost:8080/"
        },
        "outputId": "e85b89f2-295c-49b5-a637-b9515a072257"
      },
      "source": [
        "4096/(4096+(1522+1352)/2)"
      ],
      "execution_count": null,
      "outputs": [
        {
          "output_type": "execute_result",
          "data": {
            "text/plain": [
              "0.7402855593710465"
            ]
          },
          "metadata": {
            "tags": []
          },
          "execution_count": 21
        }
      ]
    },
    {
      "cell_type": "code",
      "metadata": {
        "id": "1NR6alz2DcBe",
        "colab": {
          "base_uri": "https://localhost:8080/"
        },
        "outputId": "d3f24e28-34d7-49d2-9596-cc9cade1f998"
      },
      "source": [
        "y_scores = sgd_clf.decision_function([some_digit])\n",
        "y_scores"
      ],
      "execution_count": null,
      "outputs": [
        {
          "output_type": "execute_result",
          "data": {
            "text/plain": [
              "array([2164.22030239])"
            ]
          },
          "metadata": {
            "tags": []
          },
          "execution_count": 23
        }
      ]
    },
    {
      "cell_type": "code",
      "metadata": {
        "id": "8RB6a5ETEpBR",
        "colab": {
          "base_uri": "https://localhost:8080/"
        },
        "outputId": "9da95619-c115-4a67-f6dd-1319cc15efef"
      },
      "source": [
        "threshold = 0\n",
        "y_some_digit_pred = (y_scores > threshold)\n",
        "y_some_digit_pred"
      ],
      "execution_count": null,
      "outputs": [
        {
          "output_type": "execute_result",
          "data": {
            "text/plain": [
              "array([ True])"
            ]
          },
          "metadata": {
            "tags": []
          },
          "execution_count": 26
        }
      ]
    },
    {
      "cell_type": "code",
      "metadata": {
        "id": "xjHtwda-E0MG",
        "colab": {
          "base_uri": "https://localhost:8080/"
        },
        "outputId": "1c0fd893-56c6-4729-bef6-cd443c3dc308"
      },
      "source": [
        "threshold = 8000\n",
        "y_some_digit_pred = (y_scores > threshold)\n",
        "y_some_digit_pred"
      ],
      "execution_count": null,
      "outputs": [
        {
          "output_type": "execute_result",
          "data": {
            "text/plain": [
              "array([False])"
            ]
          },
          "metadata": {
            "tags": []
          },
          "execution_count": 27
        }
      ]
    },
    {
      "cell_type": "code",
      "metadata": {
        "id": "mPdZIzv5E5XC"
      },
      "source": [
        "y_scores = cross_val_predict(sgd_clf, X_train, y_train_5, cv = 3,\n",
        "                             method = \"decision_function\")"
      ],
      "execution_count": null,
      "outputs": []
    },
    {
      "cell_type": "code",
      "metadata": {
        "id": "Zulkw1A8FOQU"
      },
      "source": [
        "from sklearn.metrics import precision_recall_curve\n",
        "\n",
        "precisions, recalls, thresholds = precision_recall_curve(y_train_5, y_scores)"
      ],
      "execution_count": null,
      "outputs": []
    },
    {
      "cell_type": "code",
      "metadata": {
        "id": "dHfz8OpWFn_J",
        "colab": {
          "base_uri": "https://localhost:8080/",
          "height": 315
        },
        "outputId": "d34366e8-4722-450c-d80c-fe136a07a840"
      },
      "source": [
        "#Use matplotlib to plot precision and recall as functions of the threshold value\n",
        "\n",
        "def plot_precision_reall_vs_threshold(precisions, recalls, thresholds):\n",
        "  plt.plot(thresholds, precisions[:-1], \"b--\", label = \"Precision\", linewidth=2)\n",
        "  plt.plot(thresholds, recalls[:-1], \"g--\",label=\"Recall\", linewidth=2)\n",
        "  plt.legend(loc=\"center right\", fontsize=16)\n",
        "  plt.xlabel(\"Threshold\", fontsize=16)\n",
        "  plt.grid(True)\n",
        "  plt.axis([-50000,50000,0,1])\n",
        "\n",
        "recall_90_precision = recalls[np.argmax(precisions>= 0.90)]\n",
        "threshold_90_precision = thresholds[np.argmax(precisions >= 0.90)]\n",
        "\n",
        "plt.figure(figsize=(8,4))\n",
        "plot_precision_reall_vs_threshold(precisions, recalls,thresholds)\n",
        "plt.plot([threshold_90_precision, threshold_90_precision], [0., 0.9], \"r:\")  \n",
        "plt.plot([-50000, threshold_90_precision], [0.9, 0.9], \"r:\")                                # Not shown\n",
        "plt.plot([-50000, threshold_90_precision], [recall_90_precision, recall_90_precision], \"r:\")# Not shown\n",
        "plt.plot([threshold_90_precision], [0.9], \"ro\")                                             # Not shown\n",
        "plt.plot([threshold_90_precision], [recall_90_precision], \"ro\")                             # Not shown\n",
        "save_fig(\"precision_recall_vs_threshold_plot\")                                              # Not shown\n",
        "plt.show()"
      ],
      "execution_count": null,
      "outputs": [
        {
          "output_type": "stream",
          "text": [
            "Saving figure precision_recall_vs_threshold_plot\n"
          ],
          "name": "stdout"
        },
        {
          "output_type": "display_data",
          "data": {
            "image/png": "[encoded data removed]",
            "text/plain": [
              "<Figure size 576x288 with 1 Axes>"
            ]
          },
          "metadata": {
            "tags": [],
            "needs_background": "light"
          }
        }
      ]
    },
    {
      "cell_type": "code",
      "metadata": {
        "id": "UeTSjEfVFv20",
        "colab": {
          "base_uri": "https://localhost:8080/"
        },
        "outputId": "29158c67-2438-495c-daee-61e8e8af430f"
      },
      "source": [
        "(y_train_pred == (y_scores >0)).all()"
      ],
      "execution_count": null,
      "outputs": [
        {
          "output_type": "execute_result",
          "data": {
            "text/plain": [
              "True"
            ]
          },
          "metadata": {
            "tags": []
          },
          "execution_count": 35
        }
      ]
    },
    {
      "cell_type": "code",
      "metadata": {
        "id": "nGSG2QByHmNa",
        "colab": {
          "base_uri": "https://localhost:8080/",
          "height": 459
        },
        "outputId": "e262f081-8f4b-4df5-c85f-fe8059791e9d"
      },
      "source": [
        "def plot_precision_vs_recall(precisions, recalls):\n",
        "  plt.plot(recalls, precisions, \"b-\", linewidth=2)\n",
        "  plt.xlabel(\"Recall\", fontsize = 16)\n",
        "  plt.ylabel(\"Precision\", fontsize=16)\n",
        "  plt.axis([0,1,0,1])\n",
        "  plt.grid(True)\n",
        "\n",
        "plt.figure(figsize=(8, 6))\n",
        "plot_precision_vs_recall(precisions, recalls)\n",
        "plt.plot([0.4368, 0.4368], [0., 0.9], \"r:\")\n",
        "plt.plot([0.0, 0.4368], [0.9, 0.9], \"r:\")\n",
        "plt.plot([0.4368], [0.9], \"ro\")\n",
        "save_fig(\"precision_vs_recall_plot\")\n",
        "plt.show()\n"
      ],
      "execution_count": null,
      "outputs": [
        {
          "output_type": "stream",
          "text": [
            "Saving figure precision_vs_recall_plot\n"
          ],
          "name": "stdout"
        },
        {
          "output_type": "display_data",
          "data": {
            "image/png": "[encoded data removed]",
            "text/plain": [
              "<Figure size 576x432 with 1 Axes>"
            ]
          },
          "metadata": {
            "tags": [],
            "needs_background": "light"
          }
        }
      ]
    },
    {
      "cell_type": "code",
      "metadata": {
        "id": "Qct9_LrbIUP1"
      },
      "source": [
        "threshold_90_precision = thresholds[np.argmax(precisions >= 0.90)]"
      ],
      "execution_count": null,
      "outputs": []
    },
    {
      "cell_type": "code",
      "metadata": {
        "id": "OTY3Vn68It74",
        "colab": {
          "base_uri": "https://localhost:8080/"
        },
        "outputId": "5414fcae-8ec5-4d90-b1d0-450be593278f"
      },
      "source": [
        "threshold_90_precision"
      ],
      "execution_count": null,
      "outputs": [
        {
          "output_type": "execute_result",
          "data": {
            "text/plain": [
              "3370.0194991439557"
            ]
          },
          "metadata": {
            "tags": []
          },
          "execution_count": 38
        }
      ]
    },
    {
      "cell_type": "code",
      "metadata": {
        "id": "bhzS0Qm8IvqS"
      },
      "source": [
        "y_train_pred_90 = (y_scores >= threshold_90_precision)"
      ],
      "execution_count": null,
      "outputs": []
    },
    {
      "cell_type": "code",
      "metadata": {
        "id": "dG2W55o1I2IM",
        "colab": {
          "base_uri": "https://localhost:8080/"
        },
        "outputId": "f80f5193-d5cc-4fe1-a01f-fbc009d669c3"
      },
      "source": [
        "precision_score(y_train_5, y_train_pred_90)"
      ],
      "execution_count": null,
      "outputs": [
        {
          "output_type": "execute_result",
          "data": {
            "text/plain": [
              "0.9000345901072293"
            ]
          },
          "metadata": {
            "tags": []
          },
          "execution_count": 41
        }
      ]
    },
    {
      "cell_type": "code",
      "metadata": {
        "id": "lQz5rX7zJGEe",
        "colab": {
          "base_uri": "https://localhost:8080/"
        },
        "outputId": "1d2658e4-9109-40d8-d1cb-7a844f9b2069"
      },
      "source": [
        "recall_score(y_train_5, y_train_pred_90)"
      ],
      "execution_count": null,
      "outputs": [
        {
          "output_type": "execute_result",
          "data": {
            "text/plain": [
              "0.4799852425751706"
            ]
          },
          "metadata": {
            "tags": []
          },
          "execution_count": 42
        }
      ]
    },
    {
      "cell_type": "code",
      "metadata": {
        "id": "NHjIL8fAJLkx"
      },
      "source": [
        ""
      ],
      "execution_count": null,
      "outputs": []
    },
    {
      "cell_type": "markdown",
      "metadata": {
        "id": "H0drcd1rJNZ0"
      },
      "source": [
        "# ROC curves"
      ]
    },
    {
      "cell_type": "code",
      "metadata": {
        "id": "eO4jFZppJPz0"
      },
      "source": [
        "from sklearn.metrics import roc_curve\n",
        "\n",
        "fpr, tpr, thresholds = roc_curve(y_train_5, y_scores)"
      ],
      "execution_count": null,
      "outputs": []
    },
    {
      "cell_type": "code",
      "metadata": {
        "id": "fF5ThtZqLHkx",
        "colab": {
          "base_uri": "https://localhost:8080/",
          "height": 459
        },
        "outputId": "501005cc-d9d2-4a1c-efcf-287d4411e043"
      },
      "source": [
        "def plot_roc_curve(fpr, tpr, label=None):\n",
        "  plt.plot(fpr, tpr, linewidth=2, label=label)\n",
        "  plt.plot([0,1],[0,1], 'k--') # dashed diagonal\n",
        "  plt.axis([0,1,0,1])\n",
        "  plt.xlabel('False Positive Rate (Fall-Out)', fontsize=16)\n",
        "  plt.ylabel('True Positive Rate (Recall)', fontsize=16)\n",
        "  plt.grid(True)\n",
        "\n",
        "plt.figure(figsize=(8,6))\n",
        "plot_roc_curve(fpr,tpr)\n",
        "plt.plot([4.837e-3, 4.837e-3], [0., 0.4368], \"r:\") # Not shown\n",
        "plt.plot([0.0, 4.837e-3], [0.4368, 0.4368], \"r:\")  # Not shown\n",
        "plt.plot([4.837e-3], [0.4368], \"ro\")               # Not shown\n",
        "save_fig(\"roc_curve_plot\")                         # Not shown\n",
        "plt.show()"
      ],
      "execution_count": null,
      "outputs": [
        {
          "output_type": "stream",
          "text": [
            "Saving figure roc_curve_plot\n"
          ],
          "name": "stdout"
        },
        {
          "output_type": "display_data",
          "data": {
            "image/png": "[encoded data removed]",
            "text/plain": [
              "<Figure size 576x432 with 1 Axes>"
            ]
          },
          "metadata": {
            "tags": [],
            "needs_background": "light"
          }
        }
      ]
    },
    {
      "cell_type": "code",
      "metadata": {
        "id": "cFrQGKdgLsdm",
        "colab": {
          "base_uri": "https://localhost:8080/"
        },
        "outputId": "de5c79a8-21d8-4bc2-addb-02f114f1a47a"
      },
      "source": [
        "from sklearn.metrics import roc_auc_score\n",
        "\n",
        "roc_auc_score(y_train_5, y_scores)"
      ],
      "execution_count": null,
      "outputs": [
        {
          "output_type": "execute_result",
          "data": {
            "text/plain": [
              "0.9604938554008616"
            ]
          },
          "metadata": {
            "tags": []
          },
          "execution_count": 46
        }
      ]
    },
    {
      "cell_type": "code",
      "metadata": {
        "id": "zgh_xSn_NBNT"
      },
      "source": [
        "#Note n_estimators = 100 to be future-prood since this will be the default value\n",
        "# in scikit learn 0.22\n",
        "\n",
        "from sklearn.ensemble import RandomForestClassifier\n",
        "forest_clf = RandomForestClassifier(n_estimators = 100, random_state = 42)\n",
        "y_probas_forest = cross_val_predict(forest_clf, X_train, y_train_5, cv=3,\n",
        "                                    method = \"predict_proba\")"
      ],
      "execution_count": null,
      "outputs": []
    },
    {
      "cell_type": "code",
      "metadata": {
        "id": "zHHN8vjHOyax"
      },
      "source": [
        "y_scores_forest = y_probas_forest[:,1] #score = proba of positive class\n",
        "fpr_forest, tpr_forest, thresholds_forest = roc_curve(y_train_5, y_scores_forest)\n"
      ],
      "execution_count": null,
      "outputs": []
    },
    {
      "cell_type": "code",
      "metadata": {
        "id": "XMVEfpEfPAxk",
        "colab": {
          "base_uri": "https://localhost:8080/",
          "height": 459
        },
        "outputId": "db02ad79-afca-4b2c-efb4-5f29474b7573"
      },
      "source": [
        "plt.figure(figsize=(8, 6))\n",
        "plt.plot(fpr, tpr, \"b:\", linewidth=2, label=\"SGD\")\n",
        "plot_roc_curve(fpr_forest, tpr_forest, \"Random Forest\")\n",
        "plt.plot([4.837e-3, 4.837e-3], [0., 0.4368], \"r:\")\n",
        "plt.plot([0.0, 4.837e-3], [0.4368, 0.4368], \"r:\")\n",
        "plt.plot([4.837e-3], [0.4368], \"ro\")\n",
        "plt.plot([4.837e-3, 4.837e-3], [0., 0.9487], \"r:\")\n",
        "plt.plot([4.837e-3], [0.9487], \"ro\")\n",
        "plt.grid(True)\n",
        "plt.legend(loc=\"lower right\", fontsize=16)\n",
        "save_fig(\"roc_curve_comparison_plot\")\n",
        "plt.show()"
      ],
      "execution_count": null,
      "outputs": [
        {
          "output_type": "stream",
          "text": [
            "Saving figure roc_curve_comparison_plot\n"
          ],
          "name": "stdout"
        },
        {
          "output_type": "display_data",
          "data": {
            "image/png": "[encoded data removed]",
            "text/plain": [
              "<Figure size 576x432 with 1 Axes>"
            ]
          },
          "metadata": {
            "tags": [],
            "needs_background": "light"
          }
        }
      ]
    },
    {
      "cell_type": "code",
      "metadata": {
        "id": "wRui4jI9PEz3",
        "colab": {
          "base_uri": "https://localhost:8080/"
        },
        "outputId": "ae1cdfb0-8ecb-45fe-c31a-ff34d1a2902f"
      },
      "source": [
        "roc_auc_score(y_train_5, y_scores_forest)"
      ],
      "execution_count": null,
      "outputs": [
        {
          "output_type": "execute_result",
          "data": {
            "text/plain": [
              "0.9983436731328145"
            ]
          },
          "metadata": {
            "tags": []
          },
          "execution_count": 50
        }
      ]
    },
    {
      "cell_type": "code",
      "metadata": {
        "id": "M6htDJWUPQwC",
        "colab": {
          "base_uri": "https://localhost:8080/"
        },
        "outputId": "50f92c65-bc86-4ffd-d845-c79f3b46d51c"
      },
      "source": [
        "y_train_pred_forest = cross_val_predict(forest_clf, X_train, y_train_5, cv=3)\n",
        "precision_score(y_train_5, y_train_pred_forest)"
      ],
      "execution_count": null,
      "outputs": [
        {
          "output_type": "execute_result",
          "data": {
            "text/plain": [
              "0.9905083315756169"
            ]
          },
          "metadata": {
            "tags": []
          },
          "execution_count": 52
        }
      ]
    },
    {
      "cell_type": "code",
      "metadata": {
        "id": "l_l8jpl7Pa3z",
        "colab": {
          "base_uri": "https://localhost:8080/"
        },
        "outputId": "c543319c-0870-42dd-dead-bccc626df450"
      },
      "source": [
        "recall_score(y_train_5, y_train_pred_forest)"
      ],
      "execution_count": null,
      "outputs": [
        {
          "output_type": "execute_result",
          "data": {
            "text/plain": [
              "0.8662608374838591"
            ]
          },
          "metadata": {
            "tags": []
          },
          "execution_count": 53
        }
      ]
    },
    {
      "cell_type": "code",
      "metadata": {
        "id": "zYJB9uNqPqLF",
        "colab": {
          "base_uri": "https://localhost:8080/"
        },
        "outputId": "665fd652-54ea-445c-da2b-29f86710766c"
      },
      "source": [
        "y_train_5"
      ],
      "execution_count": null,
      "outputs": [
        {
          "output_type": "execute_result",
          "data": {
            "text/plain": [
              "array([ True, False, False, ...,  True, False, False])"
            ]
          },
          "metadata": {
            "tags": []
          },
          "execution_count": 54
        }
      ]
    },
    {
      "cell_type": "markdown",
      "metadata": {
        "id": "O02w5l6dPuN7"
      },
      "source": [
        "#Multiclass classification"
      ]
    },
    {
      "cell_type": "code",
      "metadata": {
        "id": "IuPQakZ3PrIU"
      },
      "source": [
        ""
      ],
      "execution_count": null,
      "outputs": []
    },
    {
      "cell_type": "code",
      "metadata": {
        "id": "xcyvS-EQszot"
      },
      "source": [
        "from sklearn.preprocessing import StandardScaler\n",
        "ss = StandardScaler()\n",
        "\n",
        "X_train_scaled = ss.fit_transform(X_train)\n",
        "X_test_scaled = ss.transform(X_test)\n",
        "\n",
        "from sklearn.model_selection import GridSearchCV\n",
        "from sklearn.neighbors import KNeighborsClassifier\n",
        "\n",
        "grid_params = {\n",
        "    'n_neighbors':[3,5,11,19],\n",
        "    'weights':['uniform','distance']\n",
        "}\n",
        "\n",
        "gs = GridSearchCV(\n",
        "    KNeighborsClassifier(),\n",
        "    grid_params,\n",
        "    verbose = 1,\n",
        "    cv = 3,\n",
        "    n_jobs = -1\n",
        ")\n",
        "\n",
        "gs_results = gs.fit(X_train_scaled, y_train)"
      ],
      "execution_count": null,
      "outputs": []
    }
  ]
}