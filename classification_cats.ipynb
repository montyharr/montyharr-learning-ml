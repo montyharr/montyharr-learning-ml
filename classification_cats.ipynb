{
  "nbformat": 4,
  "nbformat_minor": 0,
  "metadata": {
    "colab": {
      "name": "classification_cats.ipynb",
      "provenance": [],
      "toc_visible": true,
      "mount_file_id": "1-OAEDZ62GjY439UX90ZRIc0gYOzwM81M",
      "authorship_tag": "ABX9TyNZV/zIFa2j8LYeW4bI7JwB",
      "include_colab_link": true
    },
    "kernelspec": {
      "name": "python3",
      "display_name": "Python 3"
    },
    "accelerator": "GPU"
  },
  "cells": [
    {
      "cell_type": "markdown",
      "metadata": {
        "id": "view-in-github",
        "colab_type": "text"
      },
      "source": [
        "<a href=\"https://colab.research.google.com/github/montyharr/montyharr-learning-ml/blob/master/classification_cats.ipynb\" target=\"_parent\"><img src=\"https://colab.research.google.com/assets/colab-badge.svg\" alt=\"Open In Colab\"/></a>"
      ]
    },
    {
      "cell_type": "code",
      "metadata": {
        "id": "9svPAZ4ja1VP"
      },
      "source": [
        ""
      ],
      "execution_count": null,
      "outputs": []
    },
    {
      "cell_type": "markdown",
      "metadata": {
        "id": "Jy_KoNkna2ta"
      },
      "source": [
        "#Classification"
      ]
    },
    {
      "cell_type": "code",
      "metadata": {
        "id": "YAtvgGaTa5M7"
      },
      "source": [
        "import numpy as np\n",
        "\n",
        "import os\n",
        "\n",
        "import cv2\n",
        "\n",
        "from tqdm import tqdm\n",
        "\n",
        "%matplotlib inline\n",
        "import matplotlib as mpl\n",
        "import matplotlib.pyplot as plt\n",
        "mpl.rc('axes', labelsize=14)\n",
        "mpl.rc('xtick', labelsize=12)\n",
        "mpl.rc('ytick', labelsize=12)\n",
        "\n",
        "img_size = 50"
      ],
      "execution_count": 10,
      "outputs": []
    },
    {
      "cell_type": "code",
      "metadata": {
        "id": "eiBoXGsvc9Ux",
        "colab": {
          "base_uri": "https://localhost:8080/"
        },
        "outputId": "53817954-3a9d-4555-80ec-c1e753d28aae"
      },
      "source": [
        "train_path = \"/content/drive/MyDrive/colab_data/dogs-vs-cats-redux-kernels-edition/train/train\"\n",
        "for img in tqdm(os.listdir(train_path), position = 0, leave = True):\n",
        "  img_array = cv2.resize(cv2.imread(os.path.join(train_path,img), cv2.IMREAD_GRAYSCALE),(img_size,img_size))"
      ],
      "execution_count": null,
      "outputs": [
        {
          "output_type": "stream",
          "text": [
            " 51%|█████▏    | 12895/25083 [1:40:09<1:30:11,  2.25it/s]"
          ],
          "name": "stderr"
        }
      ]
    },
    {
      "cell_type": "code",
      "metadata": {
        "id": "zv9-rmbfl-Xs"
      },
      "source": [
        "def img_label(img):\n",
        "  if img.split('.')[-3]==\"dog\": return 1\n",
        "  elif img.split('.')[-3]==\"cat\": return 0\n",
        "labels = []\n",
        "for img in tqdm(os.listdir(train_path), position = 0, leave = True):\n",
        "  labels.append(img_label(img))"
      ],
      "execution_count": null,
      "outputs": []
    }
  ]
}